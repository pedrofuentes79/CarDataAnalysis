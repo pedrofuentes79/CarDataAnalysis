{
 "cells": [
  {
   "cell_type": "code",
   "execution_count": 1,
   "metadata": {},
   "outputs": [],
   "source": [
    "import pandas as pd"
   ]
  },
  {
   "cell_type": "code",
   "execution_count": 7,
   "metadata": {},
   "outputs": [],
   "source": [
    "df = pd.read_csv(\"/home/pedranji/Projects/CarPerformance/data/ElectricMotorMeasures/measures_v2.csv\")"
   ]
  },
  {
   "cell_type": "markdown",
   "metadata": {},
   "source": [
    "\n",
    "### Dataset description\n",
    "- u_q: Voltage q-component measurement in dq-coordinates (in V)\n",
    "- coolant : coolant temperature in °C\n",
    "- stator_winding: Stator winding temperature (in °C) measured with thermocouples\n",
    "- u_d : Voltage d-component measurement in dq-coordinates\n",
    "- stator_tooth : Stator tooth temperature (in °C) measured with thermocouples\n",
    "- motor_speed : Motor speed (in rpm)\n",
    "- i_d : Current d-component measurement in dq-coordinates\n",
    "- pm : Permanent Magnet temperature (in °C) measured with thermocouples and transmitted wirelelessly via a thermography unit.\n",
    "- stator_yoke : Stator yoke temperature (in °C) measured with thermocouples\n",
    "- ambient : Ambient temperature (in °C)\n",
    "- torque : Motor torque (in Nm)\n",
    "- profile_id : Measurement session id. Each distinct measurement session can be identified through this integer id.\n",
    "\n",
    "This dataset is from (kaggle)[https://www.kaggle.com/datasets/wkirgsn/electric-motor-temperature]. Thanks."
   ]
  },
  {
   "cell_type": "markdown",
   "metadata": {},
   "source": [
    "### Objective\n",
    "Predict engine torque based on the other features. This is due to the fact that it is not economically wise to measure torque in a normal production vehicle.\n",
    "Another interesting measure to predict is rotor temperature (pm), which wouldn't be sound to measure in a production vehicle.\n"
   ]
  },
  {
   "cell_type": "code",
   "execution_count": 8,
   "metadata": {},
   "outputs": [],
   "source": [
    "# reorder columns so that torque is the last column and profile_id is the first column\n",
    "df = df[[\"profile_id\", \"ambient\", \"coolant\", \"u_d\", \"u_q\",\"motor_speed\", \"i_d\", \"i_q\", \"pm\", \"stator_yoke\", \"stator_tooth\", \"stator_winding\",  \"torque\"]]"
   ]
  },
  {
   "cell_type": "markdown",
   "metadata": {},
   "source": [
    "In order to do this, we will use a Recursive Neural Network. This is due to the fact that the data is organized in a time series. Not taking this important fact into account would be suboptimal, given that datapoints are affected by the previous ones. For example, a high torque value at time t-1 will most likely result in a high torque value at time t."
   ]
  },
  {
   "cell_type": "markdown",
   "metadata": {},
   "source": [
    "### Scaling: Normalization"
   ]
  },
  {
   "cell_type": "code",
   "execution_count": 9,
   "metadata": {},
   "outputs": [],
   "source": [
    "from sklearn.preprocessing import StandardScaler\n",
    "scaler = StandardScaler()\n",
    "\n",
    "# Create a copy to maintain the original dataframe.\n",
    "df_scaled = df.copy(deep=True)\n",
    "\n",
    "# Apply the scaler to the data subset (all columns except the 'profile_id' and 'motor_speed' columns)\n",
    "for col in df_scaled.columns[2:-1]:\n",
    "    df_scaled[col] = scaler.fit_transform(df_scaled[col].values.reshape(-1, 1))\n",
    "\n",
    "# Apply the scaler to the target column in a separate scaler so that we can inverse transform later.\n",
    "scaler_target = StandardScaler()\n",
    "df_scaled[\"torque\"] = scaler_target.fit_transform(df_scaled[\"motor_speed\"].values.reshape(-1, 1))"
   ]
  },
  {
   "cell_type": "code",
   "execution_count": 14,
   "metadata": {},
   "outputs": [
    {
     "data": {
      "text/plain": [
       "<Axes: >"
      ]
     },
     "execution_count": 14,
     "metadata": {},
     "output_type": "execute_result"
    },
    {
     "data": {
      "image/png": "[encoded data removed]",
      "text/plain": [
       "<Figure size 640x480 with 1 Axes>"
      ]
     },
     "metadata": {},
     "output_type": "display_data"
    }
   ],
   "source": [
    "df_scaled[\"torque\"].hist(bins=50)"
   ]
  },
  {
   "cell_type": "code",
   "execution_count": 20,
   "metadata": {},
   "outputs": [],
   "source": [
    "# set index to the profile_id\n",
    "df_scaled.set_index(\"profile_id\", inplace=True)"
   ]
  },
  {
   "cell_type": "code",
   "execution_count": 21,
   "metadata": {},
   "outputs": [
    {
     "data": {
      "text/html": [
       "<div>\n",
       "<style scoped>\n",
       "    .dataframe tbody tr th:only-of-type {\n",
       "        vertical-align: middle;\n",
       "    }\n",
       "\n",
       "    .dataframe tbody tr th {\n",
       "        vertical-align: top;\n",
       "    }\n",
       "\n",
       "    .dataframe thead th {\n",
       "        text-align: right;\n",
       "    }\n",
       "</style>\n",
       "<table border=\"1\" class=\"dataframe\">\n",
       "  <thead>\n",
       "    <tr style=\"text-align: right;\">\n",
       "      <th></th>\n",
       "      <th>ambient</th>\n",
       "      <th>coolant</th>\n",
       "      <th>u_d</th>\n",
       "      <th>u_q</th>\n",
       "      <th>motor_speed</th>\n",
       "      <th>i_d</th>\n",
       "      <th>i_q</th>\n",
       "      <th>pm</th>\n",
       "      <th>stator_yoke</th>\n",
       "      <th>stator_tooth</th>\n",
       "      <th>stator_winding</th>\n",
       "      <th>torque</th>\n",
       "    </tr>\n",
       "    <tr>\n",
       "      <th>profile_id</th>\n",
       "      <th></th>\n",
       "      <th></th>\n",
       "      <th></th>\n",
       "      <th></th>\n",
       "      <th></th>\n",
       "      <th></th>\n",
       "      <th></th>\n",
       "      <th></th>\n",
       "      <th></th>\n",
       "      <th></th>\n",
       "      <th></th>\n",
       "      <th></th>\n",
       "    </tr>\n",
       "  </thead>\n",
       "  <tbody>\n",
       "    <tr>\n",
       "      <th>17</th>\n",
       "      <td>19.850691</td>\n",
       "      <td>-0.799812</td>\n",
       "      <td>0.392820</td>\n",
       "      <td>-1.238979</td>\n",
       "      <td>-1.184128</td>\n",
       "      <td>1.058337</td>\n",
       "      <td>-0.405855</td>\n",
       "      <td>-1.786837</td>\n",
       "      <td>-1.494244</td>\n",
       "      <td>-1.681117</td>\n",
       "      <td>-1.648158</td>\n",
       "      <td>-1.184128</td>\n",
       "    </tr>\n",
       "    <tr>\n",
       "      <th>17</th>\n",
       "      <td>19.850672</td>\n",
       "      <td>-0.799197</td>\n",
       "      <td>0.393521</td>\n",
       "      <td>-1.236150</td>\n",
       "      <td>-1.184129</td>\n",
       "      <td>1.058278</td>\n",
       "      <td>-0.405867</td>\n",
       "      <td>-1.787686</td>\n",
       "      <td>-1.494323</td>\n",
       "      <td>-1.681047</td>\n",
       "      <td>-1.647959</td>\n",
       "      <td>-1.184129</td>\n",
       "    </tr>\n",
       "    <tr>\n",
       "      <th>17</th>\n",
       "      <td>19.850657</td>\n",
       "      <td>-0.798729</td>\n",
       "      <td>0.392464</td>\n",
       "      <td>-1.238757</td>\n",
       "      <td>-1.184128</td>\n",
       "      <td>1.058289</td>\n",
       "      <td>-0.405854</td>\n",
       "      <td>-1.787338</td>\n",
       "      <td>-1.493755</td>\n",
       "      <td>-1.681078</td>\n",
       "      <td>-1.648064</td>\n",
       "      <td>-1.184128</td>\n",
       "    </tr>\n",
       "    <tr>\n",
       "      <th>17</th>\n",
       "      <td>19.850647</td>\n",
       "      <td>-0.798417</td>\n",
       "      <td>0.393356</td>\n",
       "      <td>-1.236180</td>\n",
       "      <td>-1.184126</td>\n",
       "      <td>1.058270</td>\n",
       "      <td>-0.405836</td>\n",
       "      <td>-1.786847</td>\n",
       "      <td>-1.493529</td>\n",
       "      <td>-1.681146</td>\n",
       "      <td>-1.648285</td>\n",
       "      <td>-1.184126</td>\n",
       "    </tr>\n",
       "    <tr>\n",
       "      <th>17</th>\n",
       "      <td>19.850639</td>\n",
       "      <td>-0.797432</td>\n",
       "      <td>0.393101</td>\n",
       "      <td>-1.239442</td>\n",
       "      <td>-1.184127</td>\n",
       "      <td>1.057279</td>\n",
       "      <td>-0.405455</td>\n",
       "      <td>-1.786248</td>\n",
       "      <td>-1.493738</td>\n",
       "      <td>-1.681195</td>\n",
       "      <td>-1.648303</td>\n",
       "      <td>-1.184127</td>\n",
       "    </tr>\n",
       "    <tr>\n",
       "      <th>...</th>\n",
       "      <td>...</td>\n",
       "      <td>...</td>\n",
       "      <td>...</td>\n",
       "      <td>...</td>\n",
       "      <td>...</td>\n",
       "      <td>...</td>\n",
       "      <td>...</td>\n",
       "      <td>...</td>\n",
       "      <td>...</td>\n",
       "      <td>...</td>\n",
       "      <td>...</td>\n",
       "      <td>...</td>\n",
       "    </tr>\n",
       "    <tr>\n",
       "      <th>71</th>\n",
       "      <td>23.989078</td>\n",
       "      <td>-0.252853</td>\n",
       "      <td>0.410918</td>\n",
       "      <td>-1.277497</td>\n",
       "      <td>-1.184129</td>\n",
       "      <td>1.027466</td>\n",
       "      <td>-0.393952</td>\n",
       "      <td>0.191617</td>\n",
       "      <td>-0.476927</td>\n",
       "      <td>-0.651102</td>\n",
       "      <td>-0.734801</td>\n",
       "      <td>-1.184129</td>\n",
       "    </tr>\n",
       "    <tr>\n",
       "      <th>71</th>\n",
       "      <td>23.970700</td>\n",
       "      <td>-0.252853</td>\n",
       "      <td>0.410713</td>\n",
       "      <td>-1.279909</td>\n",
       "      <td>-1.184128</td>\n",
       "      <td>1.027461</td>\n",
       "      <td>-0.393952</td>\n",
       "      <td>0.191347</td>\n",
       "      <td>-0.476796</td>\n",
       "      <td>-0.653952</td>\n",
       "      <td>-0.736038</td>\n",
       "      <td>-1.184128</td>\n",
       "    </tr>\n",
       "    <tr>\n",
       "      <th>71</th>\n",
       "      <td>23.977234</td>\n",
       "      <td>-0.252853</td>\n",
       "      <td>0.411126</td>\n",
       "      <td>-1.277003</td>\n",
       "      <td>-1.184128</td>\n",
       "      <td>1.027480</td>\n",
       "      <td>-0.393939</td>\n",
       "      <td>0.191122</td>\n",
       "      <td>-0.477067</td>\n",
       "      <td>-0.656745</td>\n",
       "      <td>-0.736995</td>\n",
       "      <td>-1.184128</td>\n",
       "    </tr>\n",
       "    <tr>\n",
       "      <th>71</th>\n",
       "      <td>24.001421</td>\n",
       "      <td>-0.252852</td>\n",
       "      <td>0.410463</td>\n",
       "      <td>-1.280131</td>\n",
       "      <td>-1.184126</td>\n",
       "      <td>1.027453</td>\n",
       "      <td>-0.393972</td>\n",
       "      <td>0.190861</td>\n",
       "      <td>-0.476829</td>\n",
       "      <td>-0.658601</td>\n",
       "      <td>-0.737626</td>\n",
       "      <td>-1.184126</td>\n",
       "    </tr>\n",
       "    <tr>\n",
       "      <th>71</th>\n",
       "      <td>24.027522</td>\n",
       "      <td>-0.252852</td>\n",
       "      <td>0.411164</td>\n",
       "      <td>-1.276320</td>\n",
       "      <td>-1.184127</td>\n",
       "      <td>1.027456</td>\n",
       "      <td>-0.393964</td>\n",
       "      <td>0.190756</td>\n",
       "      <td>-0.476594</td>\n",
       "      <td>-0.659797</td>\n",
       "      <td>-0.739760</td>\n",
       "      <td>-1.184127</td>\n",
       "    </tr>\n",
       "  </tbody>\n",
       "</table>\n",
       "<p>1330816 rows × 12 columns</p>\n",
       "</div>"
      ],
      "text/plain": [
       "              ambient   coolant       u_d       u_q  motor_speed       i_d  \\\n",
       "profile_id                                                                   \n",
       "17          19.850691 -0.799812  0.392820 -1.238979    -1.184128  1.058337   \n",
       "17          19.850672 -0.799197  0.393521 -1.236150    -1.184129  1.058278   \n",
       "17          19.850657 -0.798729  0.392464 -1.238757    -1.184128  1.058289   \n",
       "17          19.850647 -0.798417  0.393356 -1.236180    -1.184126  1.058270   \n",
       "17          19.850639 -0.797432  0.393101 -1.239442    -1.184127  1.057279   \n",
       "...               ...       ...       ...       ...          ...       ...   \n",
       "71          23.989078 -0.252853  0.410918 -1.277497    -1.184129  1.027466   \n",
       "71          23.970700 -0.252853  0.410713 -1.279909    -1.184128  1.027461   \n",
       "71          23.977234 -0.252853  0.411126 -1.277003    -1.184128  1.027480   \n",
       "71          24.001421 -0.252852  0.410463 -1.280131    -1.184126  1.027453   \n",
       "71          24.027522 -0.252852  0.411164 -1.276320    -1.184127  1.027456   \n",
       "\n",
       "                 i_q        pm  stator_yoke  stator_tooth  stator_winding  \\\n",
       "profile_id                                                                  \n",
       "17         -0.405855 -1.786837    -1.494244     -1.681117       -1.648158   \n",
       "17         -0.405867 -1.787686    -1.494323     -1.681047       -1.647959   \n",
       "17         -0.405854 -1.787338    -1.493755     -1.681078       -1.648064   \n",
       "17         -0.405836 -1.786847    -1.493529     -1.681146       -1.648285   \n",
       "17         -0.405455 -1.786248    -1.493738     -1.681195       -1.648303   \n",
       "...              ...       ...          ...           ...             ...   \n",
       "71         -0.393952  0.191617    -0.476927     -0.651102       -0.734801   \n",
       "71         -0.393952  0.191347    -0.476796     -0.653952       -0.736038   \n",
       "71         -0.393939  0.191122    -0.477067     -0.656745       -0.736995   \n",
       "71         -0.393972  0.190861    -0.476829     -0.658601       -0.737626   \n",
       "71         -0.393964  0.190756    -0.476594     -0.659797       -0.739760   \n",
       "\n",
       "              torque  \n",
       "profile_id            \n",
       "17         -1.184128  \n",
       "17         -1.184129  \n",
       "17         -1.184128  \n",
       "17         -1.184126  \n",
       "17         -1.184127  \n",
       "...              ...  \n",
       "71         -1.184129  \n",
       "71         -1.184128  \n",
       "71         -1.184128  \n",
       "71         -1.184126  \n",
       "71         -1.184127  \n",
       "\n",
       "[1330816 rows x 12 columns]"
      ]
     },
     "execution_count": 21,
     "metadata": {},
     "output_type": "execute_result"
    }
   ],
   "source": [
    "df_scaled"
   ]
  },
  {
   "cell_type": "markdown",
   "metadata": {},
   "source": [
    "### Feature importance\n"
   ]
  },
  {
   "cell_type": "code",
   "execution_count": 25,
   "metadata": {},
   "outputs": [],
   "source": [
    "from sklearn.ensemble import RandomForestRegressor\n",
    "\n",
    "rf = RandomForestRegressor(n_estimators=100, random_state=42)\n",
    "rf.fit(df_scaled.drop(columns=[\"torque\"]), df_scaled[\"torque\"])\n",
    "rf.feature_importances_"
   ]
  },
  {
   "cell_type": "markdown",
   "metadata": {},
   "source": [
    "sequence generation? let's try timedistributed first and then see if I need to go back here"
   ]
  },
  {
   "cell_type": "markdown",
   "metadata": {},
   "source": [
    "label generation?"
   ]
  },
  {
   "cell_type": "markdown",
   "metadata": {},
   "source": [
    "Data split"
   ]
  },
  {
   "cell_type": "markdown",
   "metadata": {},
   "source": [
    "Data loader?"
   ]
  },
  {
   "cell_type": "markdown",
   "metadata": {},
   "source": [
    "### Model\n",
    "Time Distributed!"
   ]
  }
 ],
 "metadata": {
  "kernelspec": {
   "display_name": "Python 3",
   "language": "python",
   "name": "python3"
  },
  "language_info": {
   "codemirror_mode": {
    "name": "ipython",
    "version": 3
   },
   "file_extension": ".py",
   "mimetype": "text/x-python",
   "name": "python",
   "nbconvert_exporter": "python",
   "pygments_lexer": "ipython3",
   "version": "3.10.12"
  }
 },
 "nbformat": 4,
 "nbformat_minor": 2
}
