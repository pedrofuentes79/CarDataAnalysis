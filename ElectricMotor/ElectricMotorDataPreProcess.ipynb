{
 "cells": [
  {
   "cell_type": "code",
   "execution_count": 1,
   "metadata": {},
   "outputs": [],
   "source": [
    "import pandas as pd"
   ]
  },
  {
   "cell_type": "code",
   "execution_count": 2,
   "metadata": {},
   "outputs": [],
   "source": [
    "df = pd.read_csv(\"/home/pedranji/Projects/carPerformance/data/ElectricMotorMeasures/measures_v2.csv\")"
   ]
  },
  {
   "cell_type": "markdown",
   "metadata": {},
   "source": [
    "\n",
    "### Dataset description\n",
    "- u_q: Voltage q-component measurement in dq-coordinates (in V)\n",
    "- coolant : coolant temperature in °C\n",
    "- stator_winding: Stator winding temperature (in °C) measured with thermocouples\n",
    "- u_d : Voltage d-component measurement in dq-coordinates\n",
    "- stator_tooth : Stator tooth temperature (in °C) measured with thermocouples\n",
    "- motor_speed : Motor speed (in rpm)\n",
    "- i_d : Current d-component measurement in dq-coordinates\n",
    "- pm : Permanent Magnet temperature (in °C) measured with thermocouples and transmitted wirelelessly via a thermography unit.\n",
    "- stator_yoke : Stator yoke temperature (in °C) measured with thermocouples\n",
    "- ambient : Ambient temperature (in °C)\n",
    "- torque : Motor torque (in Nm)\n",
    "- profile_id : Measurement session id. Each distinct measurement session can be identified through this integer id.\n",
    "\n",
    "This dataset is from (kaggle)[https://www.kaggle.com/datasets/wkirgsn/electric-motor-temperature]. Thanks."
   ]
  },
  {
   "cell_type": "markdown",
   "metadata": {},
   "source": [
    "### Objective\n",
    "Predict engine torque based on the other features. This is due to the fact that it is not economically wise to measure torque in a normal production vehicle.\n",
    "Another interesting measure to predict is rotor temperature (pm), which wouldn't be sound to measure in a production vehicle.\n"
   ]
  },
  {
   "cell_type": "code",
   "execution_count": 3,
   "metadata": {},
   "outputs": [],
   "source": [
    "# reorder columns so that torque is the last column and profile_id is the first column\n",
    "df = df[[\"profile_id\", \"ambient\", \"coolant\", \"u_d\", \"u_q\",\"motor_speed\", \"i_d\", \"i_q\", \"pm\", \"stator_yoke\", \"stator_tooth\", \"stator_winding\",  \"torque\"]]"
   ]
  },
  {
   "cell_type": "markdown",
   "metadata": {},
   "source": [
    "In order to do this, we will use a Recursive Neural Network. This is due to the fact that the data is organized in a time series. Not taking this important fact into account would be suboptimal, given that datapoints are affected by the previous ones. For example, a high torque value at time t-1 will most likely result in a high torque value at time t."
   ]
  },
  {
   "cell_type": "markdown",
   "metadata": {},
   "source": [
    "### Scaling: Normalization"
   ]
  },
  {
   "cell_type": "code",
   "execution_count": 4,
   "metadata": {},
   "outputs": [],
   "source": [
    "from sklearn.preprocessing import StandardScaler\n",
    "scaler = StandardScaler()\n",
    "\n",
    "# Create a copy to maintain the original dataframe.\n",
    "df_scaled = df.copy(deep=True)\n",
    "\n",
    "# Apply the scaler to the data subset (all columns except the 'profile_id' and 'motor_speed' columns)\n",
    "for col in df_scaled.columns[2:-1]:\n",
    "    df_scaled[col] = scaler.fit_transform(df_scaled[col].values.reshape(-1, 1))\n",
    "\n",
    "# Apply the scaler to the target column in a separate scaler so that we can inverse transform later.\n",
    "scaler_target = StandardScaler()\n",
    "df_scaled[\"torque\"] = scaler_target.fit_transform(df_scaled[\"motor_speed\"].values.reshape(-1, 1))"
   ]
  },
  {
   "cell_type": "code",
   "execution_count": 5,
   "metadata": {},
   "outputs": [
    {
     "data": {
      "text/plain": [
       "<Axes: >"
      ]
     },
     "execution_count": 5,
     "metadata": {},
     "output_type": "execute_result"
    },
    {
     "data": {
      "image/png": "[encoded data removed]",
      "text/plain": [
       "<Figure size 640x480 with 1 Axes>"
      ]
     },
     "metadata": {},
     "output_type": "display_data"
    }
   ],
   "source": [
    "df_scaled[\"torque\"].hist(bins=50)"
   ]
  },
  {
   "cell_type": "code",
   "execution_count": 6,
   "metadata": {},
   "outputs": [],
   "source": [
    "# set index to the profile_id\n",
    "df_scaled.set_index(\"profile_id\", inplace=True)"
   ]
  },
  {
   "cell_type": "code",
   "execution_count": 7,
   "metadata": {},
   "outputs": [
    {
     "data": {
      "text/html": [
       "<div>\n",
       "<style scoped>\n",
       "    .dataframe tbody tr th:only-of-type {\n",
       "        vertical-align: middle;\n",
       "    }\n",
       "\n",
       "    .dataframe tbody tr th {\n",
       "        vertical-align: top;\n",
       "    }\n",
       "\n",
       "    .dataframe thead th {\n",
       "        text-align: right;\n",
       "    }\n",
       "</style>\n",
       "<table border=\"1\" class=\"dataframe\">\n",
       "  <thead>\n",
       "    <tr style=\"text-align: right;\">\n",
       "      <th></th>\n",
       "      <th>ambient</th>\n",
       "      <th>coolant</th>\n",
       "      <th>u_d</th>\n",
       "      <th>u_q</th>\n",
       "      <th>motor_speed</th>\n",
       "      <th>i_d</th>\n",
       "      <th>i_q</th>\n",
       "      <th>pm</th>\n",
       "      <th>stator_yoke</th>\n",
       "      <th>stator_tooth</th>\n",
       "      <th>stator_winding</th>\n",
       "      <th>torque</th>\n",
       "    </tr>\n",
       "    <tr>\n",
       "      <th>profile_id</th>\n",
       "      <th></th>\n",
       "      <th></th>\n",
       "      <th></th>\n",
       "      <th></th>\n",
       "      <th></th>\n",
       "      <th></th>\n",
       "      <th></th>\n",
       "      <th></th>\n",
       "      <th></th>\n",
       "      <th></th>\n",
       "      <th></th>\n",
       "      <th></th>\n",
       "    </tr>\n",
       "  </thead>\n",
       "  <tbody>\n",
       "    <tr>\n",
       "      <th>17</th>\n",
       "      <td>19.850691</td>\n",
       "      <td>-0.799812</td>\n",
       "      <td>0.392820</td>\n",
       "      <td>-1.238979</td>\n",
       "      <td>-1.184128</td>\n",
       "      <td>1.058337</td>\n",
       "      <td>-0.405855</td>\n",
       "      <td>-1.786837</td>\n",
       "      <td>-1.494244</td>\n",
       "      <td>-1.681117</td>\n",
       "      <td>-1.648158</td>\n",
       "      <td>-1.184128</td>\n",
       "    </tr>\n",
       "    <tr>\n",
       "      <th>17</th>\n",
       "      <td>19.850672</td>\n",
       "      <td>-0.799197</td>\n",
       "      <td>0.393521</td>\n",
       "      <td>-1.236150</td>\n",
       "      <td>-1.184129</td>\n",
       "      <td>1.058278</td>\n",
       "      <td>-0.405867</td>\n",
       "      <td>-1.787686</td>\n",
       "      <td>-1.494323</td>\n",
       "      <td>-1.681047</td>\n",
       "      <td>-1.647959</td>\n",
       "      <td>-1.184129</td>\n",
       "    </tr>\n",
       "    <tr>\n",
       "      <th>17</th>\n",
       "      <td>19.850657</td>\n",
       "      <td>-0.798729</td>\n",
       "      <td>0.392464</td>\n",
       "      <td>-1.238757</td>\n",
       "      <td>-1.184128</td>\n",
       "      <td>1.058289</td>\n",
       "      <td>-0.405854</td>\n",
       "      <td>-1.787338</td>\n",
       "      <td>-1.493755</td>\n",
       "      <td>-1.681078</td>\n",
       "      <td>-1.648064</td>\n",
       "      <td>-1.184128</td>\n",
       "    </tr>\n",
       "    <tr>\n",
       "      <th>17</th>\n",
       "      <td>19.850647</td>\n",
       "      <td>-0.798417</td>\n",
       "      <td>0.393356</td>\n",
       "      <td>-1.236180</td>\n",
       "      <td>-1.184126</td>\n",
       "      <td>1.058270</td>\n",
       "      <td>-0.405836</td>\n",
       "      <td>-1.786847</td>\n",
       "      <td>-1.493529</td>\n",
       "      <td>-1.681146</td>\n",
       "      <td>-1.648285</td>\n",
       "      <td>-1.184126</td>\n",
       "    </tr>\n",
       "    <tr>\n",
       "      <th>17</th>\n",
       "      <td>19.850639</td>\n",
       "      <td>-0.797432</td>\n",
       "      <td>0.393101</td>\n",
       "      <td>-1.239442</td>\n",
       "      <td>-1.184127</td>\n",
       "      <td>1.057279</td>\n",
       "      <td>-0.405455</td>\n",
       "      <td>-1.786248</td>\n",
       "      <td>-1.493738</td>\n",
       "      <td>-1.681195</td>\n",
       "      <td>-1.648303</td>\n",
       "      <td>-1.184127</td>\n",
       "    </tr>\n",
       "    <tr>\n",
       "      <th>...</th>\n",
       "      <td>...</td>\n",
       "      <td>...</td>\n",
       "      <td>...</td>\n",
       "      <td>...</td>\n",
       "      <td>...</td>\n",
       "      <td>...</td>\n",
       "      <td>...</td>\n",
       "      <td>...</td>\n",
       "      <td>...</td>\n",
       "      <td>...</td>\n",
       "      <td>...</td>\n",
       "      <td>...</td>\n",
       "    </tr>\n",
       "    <tr>\n",
       "      <th>71</th>\n",
       "      <td>23.989078</td>\n",
       "      <td>-0.252853</td>\n",
       "      <td>0.410918</td>\n",
       "      <td>-1.277497</td>\n",
       "      <td>-1.184129</td>\n",
       "      <td>1.027466</td>\n",
       "      <td>-0.393952</td>\n",
       "      <td>0.191617</td>\n",
       "      <td>-0.476927</td>\n",
       "      <td>-0.651102</td>\n",
       "      <td>-0.734801</td>\n",
       "      <td>-1.184129</td>\n",
       "    </tr>\n",
       "    <tr>\n",
       "      <th>71</th>\n",
       "      <td>23.970700</td>\n",
       "      <td>-0.252853</td>\n",
       "      <td>0.410713</td>\n",
       "      <td>-1.279909</td>\n",
       "      <td>-1.184128</td>\n",
       "      <td>1.027461</td>\n",
       "      <td>-0.393952</td>\n",
       "      <td>0.191347</td>\n",
       "      <td>-0.476796</td>\n",
       "      <td>-0.653952</td>\n",
       "      <td>-0.736038</td>\n",
       "      <td>-1.184128</td>\n",
       "    </tr>\n",
       "    <tr>\n",
       "      <th>71</th>\n",
       "      <td>23.977234</td>\n",
       "      <td>-0.252853</td>\n",
       "      <td>0.411126</td>\n",
       "      <td>-1.277003</td>\n",
       "      <td>-1.184128</td>\n",
       "      <td>1.027480</td>\n",
       "      <td>-0.393939</td>\n",
       "      <td>0.191122</td>\n",
       "      <td>-0.477067</td>\n",
       "      <td>-0.656745</td>\n",
       "      <td>-0.736995</td>\n",
       "      <td>-1.184128</td>\n",
       "    </tr>\n",
       "    <tr>\n",
       "      <th>71</th>\n",
       "      <td>24.001421</td>\n",
       "      <td>-0.252852</td>\n",
       "      <td>0.410463</td>\n",
       "      <td>-1.280131</td>\n",
       "      <td>-1.184126</td>\n",
       "      <td>1.027453</td>\n",
       "      <td>-0.393972</td>\n",
       "      <td>0.190861</td>\n",
       "      <td>-0.476829</td>\n",
       "      <td>-0.658601</td>\n",
       "      <td>-0.737626</td>\n",
       "      <td>-1.184126</td>\n",
       "    </tr>\n",
       "    <tr>\n",
       "      <th>71</th>\n",
       "      <td>24.027522</td>\n",
       "      <td>-0.252852</td>\n",
       "      <td>0.411164</td>\n",
       "      <td>-1.276320</td>\n",
       "      <td>-1.184127</td>\n",
       "      <td>1.027456</td>\n",
       "      <td>-0.393964</td>\n",
       "      <td>0.190756</td>\n",
       "      <td>-0.476594</td>\n",
       "      <td>-0.659797</td>\n",
       "      <td>-0.739760</td>\n",
       "      <td>-1.184127</td>\n",
       "    </tr>\n",
       "  </tbody>\n",
       "</table>\n",
       "<p>1330816 rows × 12 columns</p>\n",
       "</div>"
      ],
      "text/plain": [
       "              ambient   coolant       u_d       u_q  motor_speed       i_d  \\\n",
       "profile_id                                                                   \n",
       "17          19.850691 -0.799812  0.392820 -1.238979    -1.184128  1.058337   \n",
       "17          19.850672 -0.799197  0.393521 -1.236150    -1.184129  1.058278   \n",
       "17          19.850657 -0.798729  0.392464 -1.238757    -1.184128  1.058289   \n",
       "17          19.850647 -0.798417  0.393356 -1.236180    -1.184126  1.058270   \n",
       "17          19.850639 -0.797432  0.393101 -1.239442    -1.184127  1.057279   \n",
       "...               ...       ...       ...       ...          ...       ...   \n",
       "71          23.989078 -0.252853  0.410918 -1.277497    -1.184129  1.027466   \n",
       "71          23.970700 -0.252853  0.410713 -1.279909    -1.184128  1.027461   \n",
       "71          23.977234 -0.252853  0.411126 -1.277003    -1.184128  1.027480   \n",
       "71          24.001421 -0.252852  0.410463 -1.280131    -1.184126  1.027453   \n",
       "71          24.027522 -0.252852  0.411164 -1.276320    -1.184127  1.027456   \n",
       "\n",
       "                 i_q        pm  stator_yoke  stator_tooth  stator_winding  \\\n",
       "profile_id                                                                  \n",
       "17         -0.405855 -1.786837    -1.494244     -1.681117       -1.648158   \n",
       "17         -0.405867 -1.787686    -1.494323     -1.681047       -1.647959   \n",
       "17         -0.405854 -1.787338    -1.493755     -1.681078       -1.648064   \n",
       "17         -0.405836 -1.786847    -1.493529     -1.681146       -1.648285   \n",
       "17         -0.405455 -1.786248    -1.493738     -1.681195       -1.648303   \n",
       "...              ...       ...          ...           ...             ...   \n",
       "71         -0.393952  0.191617    -0.476927     -0.651102       -0.734801   \n",
       "71         -0.393952  0.191347    -0.476796     -0.653952       -0.736038   \n",
       "71         -0.393939  0.191122    -0.477067     -0.656745       -0.736995   \n",
       "71         -0.393972  0.190861    -0.476829     -0.658601       -0.737626   \n",
       "71         -0.393964  0.190756    -0.476594     -0.659797       -0.739760   \n",
       "\n",
       "              torque  \n",
       "profile_id            \n",
       "17         -1.184128  \n",
       "17         -1.184129  \n",
       "17         -1.184128  \n",
       "17         -1.184126  \n",
       "17         -1.184127  \n",
       "...              ...  \n",
       "71         -1.184129  \n",
       "71         -1.184128  \n",
       "71         -1.184128  \n",
       "71         -1.184126  \n",
       "71         -1.184127  \n",
       "\n",
       "[1330816 rows x 12 columns]"
      ]
     },
     "execution_count": 7,
     "metadata": {},
     "output_type": "execute_result"
    }
   ],
   "source": [
    "df_scaled"
   ]
  },
  {
   "cell_type": "markdown",
   "metadata": {},
   "source": [
    "### Feature importance\n"
   ]
  },
  {
   "cell_type": "code",
   "execution_count": 10,
   "metadata": {},
   "outputs": [
    {
     "data": {
      "image/png": "[encoded data removed]",
      "text/plain": [
       "<Figure size 1000x600 with 1 Axes>"
      ]
     },
     "metadata": {},
     "output_type": "display_data"
    }
   ],
   "source": [
    "from sklearn.ensemble import RandomForestRegressor\n",
    "\n",
    "df_sample = df_scaled.sample(frac=0.01, random_state=42)\n",
    "\n",
    "rf = RandomForestRegressor(n_estimators=50, random_state=42)\n",
    "rf.fit(df_sample.drop(columns=[\"torque\"]), df_sample[\"torque\"])\n",
    "\n",
    "#plot the feature importance\n",
    "import matplotlib.pyplot as plt\n",
    "plt.figure(figsize=(10, 6))\n",
    "plt.bar(df_sample.drop(columns=[\"torque\"]).columns, rf.feature_importances_)\n",
    "plt.xticks(rotation=90)\n",
    "plt.show()"
   ]
  },
  {
   "cell_type": "markdown",
   "metadata": {},
   "source": [
    "This feature importance chart says that all features are almost irrelevant with the exception of the RPM, which makes a lot of sense, given that the torque can be thought of proportional to the RPM. This makes the problem a lot simpler, since we can just use the RPM to predict the torque. This is a good example of how feature engineering can be more important than the model itself."
   ]
  },
  {
   "cell_type": "code",
   "execution_count": 11,
   "metadata": {},
   "outputs": [],
   "source": [
    "# drop the features with low importance\n",
    "df_scaled = df_scaled[[\"motor_speed\", \"torque\"]]"
   ]
  },
  {
   "cell_type": "markdown",
   "metadata": {},
   "source": [
    "sequence generation? let's try timedistributed first and then see if I need to go back here"
   ]
  },
  {
   "cell_type": "markdown",
   "metadata": {},
   "source": [
    "label generation?"
   ]
  },
  {
   "cell_type": "markdown",
   "metadata": {},
   "source": [
    "### Data split"
   ]
  },
  {
   "cell_type": "code",
   "execution_count": 84,
   "metadata": {},
   "outputs": [
    {
     "name": "stdout",
     "output_type": "stream",
     "text": [
      "(1064652, 1, 1)\n",
      "(266164, 1, 1)\n",
      "(1064652, 1, 1)\n",
      "(266164, 1, 1)\n"
     ]
    }
   ],
   "source": [
    "from sklearn.model_selection import train_test_split\n",
    "\n",
    "X_train, X_test, y_train, y_test = train_test_split(df_scaled[\"motor_speed\"], df_scaled[\"torque\"], test_size=0.2, random_state=42)\n",
    "\n",
    "X_train = X_train.values.reshape(-1, 1, 1)\n",
    "X_test = X_test.values.reshape(-1, 1, 1)\n",
    "y_train = y_train.values.reshape(-1, 1, 1)\n",
    "y_test = y_test.values.reshape(-1, 1, 1)\n",
    "\n",
    "print(X_train.shape)\n",
    "print(X_test.shape)\n",
    "print(y_train.shape)\n",
    "print(y_test.shape)"
   ]
  },
  {
   "cell_type": "markdown",
   "metadata": {},
   "source": [
    "Data loader?"
   ]
  },
  {
   "cell_type": "markdown",
   "metadata": {},
   "source": [
    "### Model\n",
    "Time Distributed!"
   ]
  },
  {
   "cell_type": "code",
   "execution_count": 85,
   "metadata": {},
   "outputs": [
    {
     "name": "stdout",
     "output_type": "stream",
     "text": [
      "Model: \"sequential_37\"\n",
      "_________________________________________________________________\n",
      " Layer (type)                Output Shape              Param #   \n",
      "=================================================================\n",
      " time_distributed_175 (Time  (None, None, 1, 128)      66560     \n",
      " Distributed)                                                    \n",
      "                                                                 \n",
      " time_distributed_176 (Time  (None, None, 1, 128)      0         \n",
      " Distributed)                                                    \n",
      "                                                                 \n",
      " time_distributed_177 (Time  (None, None, 1, 128)      131584    \n",
      " Distributed)                                                    \n",
      "                                                                 \n",
      " time_distributed_178 (Time  (None, None, 1, 128)      0         \n",
      " Distributed)                                                    \n",
      "                                                                 \n",
      " time_distributed_179 (Time  (None, None, 1, 1)        129       \n",
      " Distributed)                                                    \n",
      "                                                                 \n",
      "=================================================================\n",
      "Total params: 198273 (774.50 KB)\n",
      "Trainable params: 198273 (774.50 KB)\n",
      "Non-trainable params: 0 (0.00 Byte)\n",
      "_________________________________________________________________\n"
     ]
    }
   ],
   "source": [
    "import numpy as np\n",
    "from tensorflow.keras.models import Sequential\n",
    "from tensorflow.keras.layers import Dense, Dropout, LSTM, TimeDistributed, SimpleRNN\n",
    "\n",
    "\n",
    "simple_rnn = Sequential()\n",
    "simple_rnn.add(TimeDistributed(LSTM(128, return_sequences=True), input_shape=(None, 1, 1)))\n",
    "simple_rnn.add(TimeDistributed(Dropout(0.2)))\n",
    "simple_rnn.add(TimeDistributed(LSTM(128, return_sequences=True)))\n",
    "simple_rnn.add(TimeDistributed(Dropout(0.2)))\n",
    "simple_rnn.add(TimeDistributed(Dense(1)))\n",
    "\n",
    "simple_rnn.build(input_shape=(None, 1, 1))\n",
    "\n",
    "simple_rnn.summary()\n",
    "\n",
    "simple_rnn.compile(loss=\"mse\", optimizer=\"adam\", metrics=[\"mae\"])"
   ]
  },
  {
   "cell_type": "code",
   "execution_count": 86,
   "metadata": {},
   "outputs": [
    {
     "name": "stdout",
     "output_type": "stream",
     "text": [
      "Epoch 1/10\n",
      "26617/26617 [==============================] - 168s 6ms/step - loss: 0.0046 - mae: 0.0455 - val_loss: 1.8278e-04 - val_mae: 0.0111\n",
      "Epoch 2/10\n",
      "26617/26617 [==============================] - 163s 6ms/step - loss: 0.0032 - mae: 0.0431 - val_loss: 2.4804e-05 - val_mae: 0.0047\n",
      "Epoch 3/10\n",
      "26617/26617 [==============================] - 159s 6ms/step - loss: 0.0031 - mae: 0.0417 - val_loss: 1.0430e-04 - val_mae: 0.0083\n",
      "Epoch 4/10\n",
      "26617/26617 [==============================] - 158s 6ms/step - loss: 0.0029 - mae: 0.0402 - val_loss: 9.3466e-04 - val_mae: 0.0245\n",
      "Epoch 5/10\n",
      "26617/26617 [==============================] - 159s 6ms/step - loss: 0.0028 - mae: 0.0394 - val_loss: 4.7605e-05 - val_mae: 0.0058\n",
      "Epoch 6/10\n",
      "26617/26617 [==============================] - 158s 6ms/step - loss: 0.0027 - mae: 0.0385 - val_loss: 1.9258e-04 - val_mae: 0.0103\n",
      "Epoch 7/10\n",
      "26617/26617 [==============================] - 162s 6ms/step - loss: 0.0026 - mae: 0.0378 - val_loss: 1.1387e-04 - val_mae: 0.0083\n",
      "Epoch 8/10\n",
      "26617/26617 [==============================] - 161s 6ms/step - loss: 0.0026 - mae: 0.0375 - val_loss: 3.4672e-05 - val_mae: 0.0044\n",
      "Epoch 9/10\n",
      "26617/26617 [==============================] - 158s 6ms/step - loss: 0.0025 - mae: 0.0372 - val_loss: 2.5559e-04 - val_mae: 0.0131\n",
      "Epoch 10/10\n",
      "26617/26617 [==============================] - 163s 6ms/step - loss: 0.0025 - mae: 0.0369 - val_loss: 3.7939e-04 - val_mae: 0.0160\n"
     ]
    }
   ],
   "source": [
    "H = simple_rnn.fit(X_train, y_train, epochs=10, batch_size=32, validation_split=0.2)"
   ]
  },
  {
   "cell_type": "code",
   "execution_count": 87,
   "metadata": {},
   "outputs": [
    {
     "data": {
      "image/png": "[encoded data removed]",
      "text/plain": [
       "<Figure size 1000x600 with 1 Axes>"
      ]
     },
     "metadata": {},
     "output_type": "display_data"
    }
   ],
   "source": [
    "# plot loss\n",
    "plt.figure(figsize=(10, 6))\n",
    "plt.plot(H.history[\"loss\"], label=\"train_loss\")\n",
    "plt.plot(H.history[\"val_loss\"], label=\"val_loss\")\n",
    "plt.legend()\n",
    "plt.show()\n"
   ]
  },
  {
   "cell_type": "code",
   "execution_count": 90,
   "metadata": {},
   "outputs": [
    {
     "name": "stdout",
     "output_type": "stream",
     "text": [
      "   1/8318 [..............................] - ETA: 4:17"
     ]
    },
    {
     "name": "stdout",
     "output_type": "stream",
     "text": [
      "8318/8318 [==============================] - 18s 2ms/step\n"
     ]
    }
   ],
   "source": [
    "# predictions\n",
    "y_pred = simple_rnn.predict(X_test)\n",
    "\n"
   ]
  },
  {
   "cell_type": "code",
   "execution_count": 97,
   "metadata": {},
   "outputs": [
    {
     "name": "stdout",
     "output_type": "stream",
     "text": [
      "(266164, 1)\n",
      "R2:  0.9996199853514788\n",
      "MAE:  0.015994675248018005\n",
      "MSE:  0.00037956776843092055\n",
      "RMSE:  0.019482499029408948\n"
     ]
    }
   ],
   "source": [
    "print(y_pred.shape)\n",
    "y_test = y_test.reshape(-1, 1)\n",
    "y_pred = y_pred.reshape(-1, 1)\n",
    "\n",
    "# get accuracy, MAE, and MSE\n",
    "from sklearn.metrics import mean_absolute_error, mean_squared_error, r2_score\n",
    "\n",
    "print(\"R2: \", r2_score(y_test, y_pred))\n",
    "print(\"MAE: \", mean_absolute_error(y_test, y_pred))\n",
    "print(\"MSE: \", mean_squared_error(y_test, y_pred))\n",
    "print(\"RMSE: \", np.sqrt(mean_squared_error(y_test, y_pred)))"
   ]
  },
  {
   "cell_type": "markdown",
   "metadata": {},
   "source": [
    "In conclusion, this simple RNN model was able to predict great results with only two LSTM layers. One thing that is key is the TimeDistributed layer, which enabled the model to learn the sequence of the data without needing to pad/truncate the sequences, which ends up making the model more complex or, in the other case, losing information."
   ]
  }
 ],
 "metadata": {
  "kernelspec": {
   "display_name": "Python 3",
   "language": "python",
   "name": "python3"
  },
  "language_info": {
   "codemirror_mode": {
    "name": "ipython",
    "version": 3
   },
   "file_extension": ".py",
   "mimetype": "text/x-python",
   "name": "python",
   "nbconvert_exporter": "python",
   "pygments_lexer": "ipython3",
   "version": "3.10.12"
  }
 },
 "nbformat": 4,
 "nbformat_minor": 2
}
